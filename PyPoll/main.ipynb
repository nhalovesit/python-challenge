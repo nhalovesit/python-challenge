{
 "cells": [
  {
   "cell_type": "code",
   "execution_count": 2,
   "metadata": {},
   "outputs": [
    {
     "name": "stdout",
     "output_type": "stream",
     "text": [
      "Election Results\n",
      "----------------------------\n",
      "Total Votes: 3521001\n",
      "----------------------------\n",
      "Khan: 63.000% (2218231)\n",
      "Correy: 20.000% (704200)\n",
      "Li: 14.000% (492940)\n",
      "O'Tooley: 3.000% (105630)\n",
      "----------------------------\n",
      "Winner:  Khan\n",
      "----------------------------\n"
     ]
    }
   ],
   "source": [
    "# Import the os module\n",
    "# This will allow us to create file paths across operating systems\n",
    "import os\n",
    "\n",
    "# Module for reading CSV files\n",
    "import csv\n",
    "from collections import Counter\n",
    "\n",
    "csvpath = os.path.join('..', 'PyPoll/Resources', 'election_data.csv')\n",
    "\n",
    "with open(csvpath, newline='') as csvfile:\n",
    "\n",
    "    # CSV reader specifies delimiter and variable that holds contents\n",
    "    csvreader = csv.reader(csvfile, delimiter=',')\n",
    "\n",
    "    #print(csvreader)\n",
    "\n",
    "    # Read the header row first (skip this step if there is no header)\n",
    "    csv_header = next(csvreader)\n",
    "    #print(f\"CSV Header: {csv_header}\")\n",
    "\n",
    "    # Read each row of data after the header\n",
    "    i = 0\n",
    "    total_votes = 0\n",
    "    khan_count = 0\n",
    "    correy_count = 0\n",
    "    li_count = 0\n",
    "    otooley_count = 0\n",
    "\n",
    "    l = []\n",
    "    for row in csvreader:\n",
    "        #print(row)\n",
    "        total_votes = total_votes + 1\n",
    "        if row[2] == \"Khan\":\n",
    "            khan_count = khan_count + 1\n",
    "        elif row[2] == \"Correy\":\n",
    "            correy_count = correy_count + 1\n",
    "        elif row[2] == \"Li\":\n",
    "            li_count = li_count + 1\n",
    "        elif row[2] == \"O'Tooley\":\n",
    "            otooley_count = otooley_count + 1      \n",
    "\n",
    "#Determine the winner\n",
    "# Initial Dictionary \n",
    "l = {'Khan': khan_count, 'Correy': correy_count, 'Li': li_count,  \n",
    "           \"O'Tooley\": otooley_count} \n",
    "  \n",
    "k = Counter(l) \n",
    "  \n",
    "# Finding highest value\n",
    "winner = k.most_common(1)\n",
    "\n",
    "khan_percent = khan_count/total_votes * 100\n",
    "correy_percent = correy_count/total_votes * 100\n",
    "li_percent = li_count/total_votes * 100\n",
    "otooley_percent = otooley_count/total_votes * 100\n",
    "\n",
    "print('Election Results')\n",
    "print('----------------------------')\n",
    "print('Total Votes: ' + str(total_votes))\n",
    "print('----------------------------')\n",
    "print('Khan: {:.3f}%'.format(khan_percent) + \" (\" + str(khan_count)+ \")\")\n",
    "print('Correy: {:.3f}%'.format(correy_percent) + \" (\" + str(correy_count)+ \")\")\n",
    "print('Li: {:.3f}%'.format(li_percent) + \" (\" + str(li_count)+ \")\")\n",
    "print('O\\'Tooley: {:.3f}%'.format(otooley_percent) + \" (\" + str(otooley_count)+ \")\")\n",
    "print('----------------------------')\n",
    "print('Winner: ', winner[0][0])\n",
    "print('----------------------------')\n"
   ]
  },
  {
   "cell_type": "code",
   "execution_count": 3,
   "metadata": {},
   "outputs": [],
   "source": [
    "with open(\"Resources/Output.txt\", \"w\") as text_file: \n",
    "    text_file.write('Election Results \\n ---------------------------\\nTotal Votes: ' + str(total_votes))\n",
    "    text_file.write('\\n----------------------------\\nKhan: {:.3f}%'.format(khan_percent) + \" (\" + str(khan_count)+ \")\")\n",
    "    text_file.write('\\nCorrey: {:.3f}%'.format(correy_percent) + \" (\" + str(correy_count)+ \")\")\n",
    "    text_file.write('\\nLi: {:.3f}%'.format(li_percent) + \" (\" + str(li_count)+ \")\")\n",
    "    text_file.write('\\nO\\'Tooley: {:.3f}%'.format(otooley_percent) + \" (\" + str(otooley_count)+ \")\")\n",
    "    text_file.write('\\n----------------------------')\n",
    "    text_file.write('\\nWinner: '+ winner[0][0])\n",
    "    text_file.write('\\n----------------------------')\n",
    "    "
   ]
  },
  {
   "cell_type": "code",
   "execution_count": null,
   "metadata": {},
   "outputs": [],
   "source": []
  }
 ],
 "metadata": {
  "kernelspec": {
   "display_name": "Python 3",
   "language": "python",
   "name": "python3"
  },
  "language_info": {
   "codemirror_mode": {
    "name": "ipython",
    "version": 3
   },
   "file_extension": ".py",
   "mimetype": "text/x-python",
   "name": "python",
   "nbconvert_exporter": "python",
   "pygments_lexer": "ipython3",
   "version": "3.7.3"
  }
 },
 "nbformat": 4,
 "nbformat_minor": 4
}
